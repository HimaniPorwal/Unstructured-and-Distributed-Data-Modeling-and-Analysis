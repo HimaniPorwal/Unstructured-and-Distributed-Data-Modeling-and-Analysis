{
 "cells": [
  {
   "cell_type": "code",
   "execution_count": 1,
   "id": "0ec12a68-00a3-4d56-892c-700a7a194417",
   "metadata": {},
   "outputs": [],
   "source": [
    "#produce data stream to streaming application or streaming architecture\n",
    "#here simply use the disk (file system) as the channel for streaming"
   ]
  },
  {
   "cell_type": "code",
   "execution_count": 2,
   "id": "ad799373-aece-455c-92b6-12950c9f26d0",
   "metadata": {},
   "outputs": [],
   "source": [
    "#this notebook takes csv rows from review_test.csv and send the reviews to review_stream folder\n",
    "#consumer notebook will take the data from review_stream folder to consume the data stream"
   ]
  },
  {
   "cell_type": "code",
   "execution_count": 3,
   "id": "ba5dc1e9-5dd4-4928-ab3d-786d1173dbc9",
   "metadata": {},
   "outputs": [
    {
     "name": "stdout",
     "output_type": "stream",
     "text": [
      "produce 54 reviews in 26s total 54\n"
     ]
    },
    {
     "ename": "KeyboardInterrupt",
     "evalue": "",
     "output_type": "error",
     "traceback": [
      "\u001b[0;31m---------------------------------------------------------------------------\u001b[0m",
      "\u001b[0;31mKeyboardInterrupt\u001b[0m                         Traceback (most recent call last)",
      "Cell \u001b[0;32mIn[3], line 47\u001b[0m\n\u001b[1;32m     44\u001b[0m clear_output(wait\u001b[38;5;241m=\u001b[39m\u001b[38;5;28;01mTrue\u001b[39;00m)\n\u001b[1;32m     45\u001b[0m \u001b[38;5;28mprint\u001b[39m(\u001b[38;5;124m\"\u001b[39m\u001b[38;5;124mproduce \u001b[39m\u001b[38;5;124m\"\u001b[39m\u001b[38;5;241m+\u001b[39m\u001b[38;5;28mstr\u001b[39m(num_reviews)\u001b[38;5;241m+\u001b[39m\u001b[38;5;124m\"\u001b[39m\u001b[38;5;124m reviews in \u001b[39m\u001b[38;5;124m\"\u001b[39m\u001b[38;5;241m+\u001b[39m\u001b[38;5;28mstr\u001b[39m(seconds)\u001b[38;5;241m+\u001b[39m\u001b[38;5;124m\"\u001b[39m\u001b[38;5;124ms total \u001b[39m\u001b[38;5;124m\"\u001b[39m\u001b[38;5;241m+\u001b[39m\u001b[38;5;28mstr\u001b[39m(i))\n\u001b[0;32m---> 47\u001b[0m time\u001b[38;5;241m.\u001b[39msleep(seconds)\n\u001b[1;32m     49\u001b[0m \u001b[38;5;28;01mif\u001b[39;00m i \u001b[38;5;241m>\u001b[39m\u001b[38;5;241m=\u001b[39m num_reviews:\n\u001b[1;32m     50\u001b[0m     streaming_files \u001b[38;5;241m=\u001b[39m os\u001b[38;5;241m.\u001b[39mlistdir(streaming_path)\n",
      "\u001b[0;31mKeyboardInterrupt\u001b[0m: "
     ]
    }
   ],
   "source": [
    "import os\n",
    "import pandas as pd\n",
    "import numpy as np\n",
    "import time\n",
    "import random\n",
    "import shutil\n",
    "from IPython.display import clear_output\n",
    "\n",
    "#load data\n",
    "reviews_test_stream = pd.read_csv('./review_test.csv')\n",
    "review_streams = reviews_test_stream['review'].tolist()\n",
    "\n",
    "#remove existing files in review_stream to make it an empty folder ready for streaming\n",
    "streaming_path = './review_stream'\n",
    "if not os.path.exists(streaming_path):\n",
    "    os.makedirs(streaming_path)\n",
    "streaming_files = os.listdir(streaming_path)\n",
    "for f in streaming_files:\n",
    "    os.remove(os.path.join(streaming_path, f))\n",
    "\n",
    "#start to produce data stream\n",
    "i = 0\n",
    "j = 0\n",
    "num_review_streams = len(review_streams)\n",
    "\n",
    "while 1:\n",
    "\n",
    "    seconds = random.randint(10,30)\n",
    "    num_reviews = random.randint(50,100)\n",
    "\n",
    "    start = i\n",
    "    end = i + num_reviews\n",
    "\n",
    "    if end > num_review_streams:\n",
    "        end = num_review_streams\n",
    "\n",
    "    send_reviews = review_streams[start:end]\n",
    "    i = i + num_reviews\n",
    "    \n",
    "    ts = int(time.time())\n",
    "    des_path = os.path.join(streaming_path, \"reviews_\"+str(ts)+\".csv\")\n",
    "    pd.DataFrame(send_reviews, columns=['review']).to_csv(des_path, index=False)\n",
    "\n",
    "    clear_output(wait=True)\n",
    "    print(\"produce \"+str(num_reviews)+\" reviews in \"+str(seconds)+\"s total \"+str(i))\n",
    "\n",
    "    time.sleep(seconds)\n",
    "\n",
    "    if i >= num_reviews:\n",
    "        streaming_files = os.listdir(streaming_path)\n",
    "        for f in streaming_files:\n",
    "            os.remove(os.path.join(streaming_path, f))\n",
    "        i = 0\n"
   ]
  },
  {
   "cell_type": "code",
   "execution_count": null,
   "id": "9e23495f-fce4-44c0-b386-ca19a484403d",
   "metadata": {},
   "outputs": [],
   "source": []
  }
 ],
 "metadata": {
  "kernelspec": {
   "display_name": "Python 3 (ipykernel)",
   "language": "python",
   "name": "python3"
  },
  "language_info": {
   "codemirror_mode": {
    "name": "ipython",
    "version": 3
   },
   "file_extension": ".py",
   "mimetype": "text/x-python",
   "name": "python",
   "nbconvert_exporter": "python",
   "pygments_lexer": "ipython3",
   "version": "3.11.6"
  }
 },
 "nbformat": 4,
 "nbformat_minor": 5
}
